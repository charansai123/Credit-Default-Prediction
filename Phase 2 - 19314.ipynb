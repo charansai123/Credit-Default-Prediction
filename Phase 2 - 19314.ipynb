{
 "cells": [
  {
   "cell_type": "markdown",
   "metadata": {},
   "source": [
    "### <font color=green>Machine Learning Model Building</font>\n",
    "### <font color=green>B.Charan Sai</font>\n",
    "### <font color=green>19314,CSE-D</font>"
   ]
  },
  {
   "cell_type": "markdown",
   "metadata": {},
   "source": [
    "### <font color=red>Problem Definition</font>"
   ]
  },
  {
   "cell_type": "markdown",
   "metadata": {},
   "source": [
    "##### <font color=black>Credit cards have been viewed as a competitive banking product which helps to improve a bank’s financial position.For the convenience of citizens abroad traveling, credit cards were first issued in Taiwan in 1973. In year 2000, electronic payment on the internet have been established, which lead to a rapid expansion of credit card market. Credit card holders from different age groups, different education level, and different gender have different usage behaviors. It is meaningful for banks and financial institutions to investigating the credit card default issue and predicting the default of all clients in various condition.</font>\n",
    "\n",
    "##### <font color=black>In this paper, we explored the factors influencing the defaults of credit card clients, tried to determine how much each factor contribute to the default of credit card, and proposed a model for predicting default of credit card clients.</font>"
   ]
  },
  {
   "cell_type": "markdown",
   "metadata": {},
   "source": [
    "### <font color=red>Dataset</font>"
   ]
  },
  {
   "cell_type": "markdown",
   "metadata": {},
   "source": [
    "* This model aimed at the case of customers default payments in Taiwan and compares the predictive accuracy of probability of default among six data mining methods. From the perspective of risk management, the result of predictive accuracy of the estimated probability of default will be more valuable than the binary result of classification - credible or not credible clients.\n",
    "\n",
    "* We used the [Credit Card Default payment in Taiwan] (https://archive.ics.uci.edu/ml/datasets/default+of+credit+card+clients) to predict whether the credit card holders are defaulters or Non-defaulters."
   ]
  },
  {
   "cell_type": "markdown",
   "metadata": {},
   "source": [
    "### <font color=red>Prepare Data</font> "
   ]
  },
  {
   "cell_type": "markdown",
   "metadata": {},
   "source": [
    "**Data Preprocessing (https://github.com/charansai123/Credit-Default-Prediction/blob/main/Phase%201%20-%2019314.pdf) or(https://bit.ly/3wj3e6D) for this dataset**."
   ]
  },
  {
   "cell_type": "markdown",
   "metadata": {},
   "source": [
    "### <font color=red>Python packages</font> "
   ]
  },
  {
   "cell_type": "markdown",
   "metadata": {},
   "source": [
    "#### <font color=green>Numpy</font>\n",
    "* <a href=\"https://numpy.org/\" >Numpy</a> adds multi-dimensional array and matrix processing to Python, as well as a large collection of high-level mathematical functions. It is commonly used for scientific computing and hence, one of the most used Python Packages for machine learning.It also discusses the various array functions, types of indexing, etc.NumPy stands for Numerical Python."
   ]
  },
  {
   "cell_type": "markdown",
   "metadata": {},
   "source": [
    "#### <font color=green>Pandas</font>\n",
    "* <a href=\"https://pandas.pydata.org/\" >Pandas</a> is a Python library for providing high-performance, easy-to-use data structures and data analysis tools for the Python programming language.pandas is a software library for data manipulation and analysis.It is a library used for working with data sets.It has functions for analyzing, cleaning, exploring, and manipulating data."
   ]
  },
  {
   "cell_type": "markdown",
   "metadata": {},
   "source": [
    "#### <font color=green>Matplotlib </font>\n",
    "* <a href=\"https://matplotlib.org/\" >Matplotlib</a> is an interactive, cross-platform library for two-dimensional plotting.It is a low level graph plotting library in python that serves as a visualization utility.It can produce high-quality graphs, charts and plots in several hardcopy formats.It provides an object-oriented API for embedding plots into applications using general-purpose GUI toolkits like Tkinter, wxPython, Qt, or GTK"
   ]
  },
  {
   "cell_type": "markdown",
   "metadata": {},
   "source": [
    "#### <font color=green>Seaborn</font>\n",
    "* <a href=\"https://seaborn.pydata.org/\" >Seaborn</a> is a library for making statistical graphs in Python. It is built on top of matplotlib and also integrated with pandas data structures.Gives more attractive graphs than matplotlib.Has built-in plots that matplotlib lacks.Uses less code to visualize graphs.It provides a high-level interface for drawing attractive and informative statistical graphics."
   ]
  },
  {
   "cell_type": "markdown",
   "metadata": {},
   "source": [
    "#### <font color=green>Scikit-Learn</font>\n",
    "* <a href=\"https://scikit-learn.org/stable/\" >Scikit-Learn (Sklearn)</a> is the most useful and robust library for machine learning in Python. It provides a selection of efficient tools for machine learning and statistical modeling including classification, regression, clustering and dimensionality reduction via a consistence interface in Python.This library, which is largely written in Python, is built upon NumPy, SciPy and Matplotlib. "
   ]
  },
  {
   "cell_type": "markdown",
   "metadata": {},
   "source": [
    "### <font color=red>Machine learning Model Building</font> "
   ]
  },
  {
   "cell_type": "markdown",
   "metadata": {},
   "source": [
    "### Step 1:Importing Libraries"
   ]
  },
  {
   "cell_type": "code",
   "execution_count": 1,
   "metadata": {},
   "outputs": [],
   "source": [
    "import numpy as np\n",
    "import pandas as pd\n",
    "import matplotlib.pyplot as plt\n",
    "import seaborn as sns\n",
    "from matplotlib import style\n",
    "style.use(\"ggplot\")\n",
    "import os\n",
    "import sys\n",
    "%matplotlib inline\n",
    "import warnings\n",
    "warnings.filterwarnings('ignore')"
   ]
  },
  {
   "cell_type": "code",
   "execution_count": 2,
   "metadata": {},
   "outputs": [],
   "source": [
    "from sklearn.model_selection import train_test_split\n",
    "from sklearn.model_selection import StratifiedKFold\n",
    "from sklearn.metrics import  accuracy_score, f1_score, precision_score, recall_score, roc_auc_score\n",
    "from sklearn.metrics import confusion_matrix\n",
    "from mlxtend.plotting import plot_confusion_matrix\n",
    "from sklearn import model_selection\n",
    "from sklearn import metrics\n",
    "from sklearn.svm import SVC\n",
    "from sklearn.linear_model import LogisticRegression\n",
    "from sklearn.linear_model import SGDClassifier\n",
    "from sklearn.neighbors import KNeighborsClassifier\n",
    "from sklearn.naive_bayes import GaussianNB\n",
    "from sklearn.tree import DecisionTreeClassifier\n",
    "from sklearn.ensemble import RandomForestClassifier"
   ]
  },
  {
   "cell_type": "markdown",
   "metadata": {},
   "source": [
    "### Step 2:Reading Preprocessed data"
   ]
  },
  {
   "cell_type": "code",
   "execution_count": 3,
   "metadata": {},
   "outputs": [
    {
     "data": {
      "text/html": [
       "<div>\n",
       "<style scoped>\n",
       "    .dataframe tbody tr th:only-of-type {\n",
       "        vertical-align: middle;\n",
       "    }\n",
       "\n",
       "    .dataframe tbody tr th {\n",
       "        vertical-align: top;\n",
       "    }\n",
       "\n",
       "    .dataframe thead th {\n",
       "        text-align: right;\n",
       "    }\n",
       "</style>\n",
       "<table border=\"1\" class=\"dataframe\">\n",
       "  <thead>\n",
       "    <tr style=\"text-align: right;\">\n",
       "      <th></th>\n",
       "      <th>Unnamed: 0</th>\n",
       "      <th>bill_tot</th>\n",
       "      <th>ID</th>\n",
       "      <th>LIMIT_BAL</th>\n",
       "      <th>SEX</th>\n",
       "      <th>EDUCATION</th>\n",
       "      <th>MARRIAGE</th>\n",
       "      <th>AGE</th>\n",
       "      <th>PAY_0</th>\n",
       "      <th>PAY_2</th>\n",
       "      <th>...</th>\n",
       "      <th>PAY_4</th>\n",
       "      <th>PAY_5</th>\n",
       "      <th>PAY_6</th>\n",
       "      <th>PAY_AMT1</th>\n",
       "      <th>PAY_AMT2</th>\n",
       "      <th>PAY_AMT3</th>\n",
       "      <th>PAY_AMT4</th>\n",
       "      <th>PAY_AMT5</th>\n",
       "      <th>PAY_AMT6</th>\n",
       "      <th>Target</th>\n",
       "    </tr>\n",
       "  </thead>\n",
       "  <tbody>\n",
       "    <tr>\n",
       "      <th>0</th>\n",
       "      <td>0</td>\n",
       "      <td>7704.0</td>\n",
       "      <td>1</td>\n",
       "      <td>20000.0</td>\n",
       "      <td>2</td>\n",
       "      <td>2</td>\n",
       "      <td>1</td>\n",
       "      <td>8</td>\n",
       "      <td>2</td>\n",
       "      <td>2</td>\n",
       "      <td>...</td>\n",
       "      <td>-1</td>\n",
       "      <td>-2</td>\n",
       "      <td>-2</td>\n",
       "      <td>0.0</td>\n",
       "      <td>689.0</td>\n",
       "      <td>0.0</td>\n",
       "      <td>0.0</td>\n",
       "      <td>0.0</td>\n",
       "      <td>0.0</td>\n",
       "      <td>1</td>\n",
       "    </tr>\n",
       "    <tr>\n",
       "      <th>1</th>\n",
       "      <td>1</td>\n",
       "      <td>17077.0</td>\n",
       "      <td>2</td>\n",
       "      <td>120000.0</td>\n",
       "      <td>2</td>\n",
       "      <td>2</td>\n",
       "      <td>2</td>\n",
       "      <td>8</td>\n",
       "      <td>-1</td>\n",
       "      <td>2</td>\n",
       "      <td>...</td>\n",
       "      <td>0</td>\n",
       "      <td>0</td>\n",
       "      <td>2</td>\n",
       "      <td>0.0</td>\n",
       "      <td>1000.0</td>\n",
       "      <td>1000.0</td>\n",
       "      <td>1000.0</td>\n",
       "      <td>0.0</td>\n",
       "      <td>2000.0</td>\n",
       "      <td>1</td>\n",
       "    </tr>\n",
       "    <tr>\n",
       "      <th>2</th>\n",
       "      <td>2</td>\n",
       "      <td>101653.0</td>\n",
       "      <td>3</td>\n",
       "      <td>90000.0</td>\n",
       "      <td>2</td>\n",
       "      <td>2</td>\n",
       "      <td>2</td>\n",
       "      <td>6</td>\n",
       "      <td>0</td>\n",
       "      <td>0</td>\n",
       "      <td>...</td>\n",
       "      <td>0</td>\n",
       "      <td>0</td>\n",
       "      <td>0</td>\n",
       "      <td>1518.0</td>\n",
       "      <td>1500.0</td>\n",
       "      <td>1000.0</td>\n",
       "      <td>1000.0</td>\n",
       "      <td>1000.0</td>\n",
       "      <td>5000.0</td>\n",
       "      <td>0</td>\n",
       "    </tr>\n",
       "    <tr>\n",
       "      <th>3</th>\n",
       "      <td>3</td>\n",
       "      <td>231334.0</td>\n",
       "      <td>4</td>\n",
       "      <td>50000.0</td>\n",
       "      <td>2</td>\n",
       "      <td>2</td>\n",
       "      <td>1</td>\n",
       "      <td>6</td>\n",
       "      <td>0</td>\n",
       "      <td>0</td>\n",
       "      <td>...</td>\n",
       "      <td>0</td>\n",
       "      <td>0</td>\n",
       "      <td>0</td>\n",
       "      <td>2000.0</td>\n",
       "      <td>2019.0</td>\n",
       "      <td>1200.0</td>\n",
       "      <td>1100.0</td>\n",
       "      <td>1069.0</td>\n",
       "      <td>1000.0</td>\n",
       "      <td>0</td>\n",
       "    </tr>\n",
       "    <tr>\n",
       "      <th>4</th>\n",
       "      <td>4</td>\n",
       "      <td>109339.0</td>\n",
       "      <td>5</td>\n",
       "      <td>50000.0</td>\n",
       "      <td>1</td>\n",
       "      <td>2</td>\n",
       "      <td>1</td>\n",
       "      <td>3</td>\n",
       "      <td>-1</td>\n",
       "      <td>0</td>\n",
       "      <td>...</td>\n",
       "      <td>0</td>\n",
       "      <td>0</td>\n",
       "      <td>0</td>\n",
       "      <td>2000.0</td>\n",
       "      <td>36681.0</td>\n",
       "      <td>10000.0</td>\n",
       "      <td>9000.0</td>\n",
       "      <td>689.0</td>\n",
       "      <td>679.0</td>\n",
       "      <td>0</td>\n",
       "    </tr>\n",
       "  </tbody>\n",
       "</table>\n",
       "<p>5 rows × 21 columns</p>\n",
       "</div>"
      ],
      "text/plain": [
       "   Unnamed: 0  bill_tot  ID  LIMIT_BAL  SEX  EDUCATION  MARRIAGE  AGE  PAY_0  \\\n",
       "0           0    7704.0   1    20000.0    2          2         1    8      2   \n",
       "1           1   17077.0   2   120000.0    2          2         2    8     -1   \n",
       "2           2  101653.0   3    90000.0    2          2         2    6      0   \n",
       "3           3  231334.0   4    50000.0    2          2         1    6      0   \n",
       "4           4  109339.0   5    50000.0    1          2         1    3     -1   \n",
       "\n",
       "   PAY_2  ...  PAY_4  PAY_5  PAY_6  PAY_AMT1  PAY_AMT2  PAY_AMT3  PAY_AMT4  \\\n",
       "0      2  ...     -1     -2     -2       0.0     689.0       0.0       0.0   \n",
       "1      2  ...      0      0      2       0.0    1000.0    1000.0    1000.0   \n",
       "2      0  ...      0      0      0    1518.0    1500.0    1000.0    1000.0   \n",
       "3      0  ...      0      0      0    2000.0    2019.0    1200.0    1100.0   \n",
       "4      0  ...      0      0      0    2000.0   36681.0   10000.0    9000.0   \n",
       "\n",
       "   PAY_AMT5  PAY_AMT6  Target  \n",
       "0       0.0       0.0       1  \n",
       "1       0.0    2000.0       1  \n",
       "2    1000.0    5000.0       0  \n",
       "3    1069.0    1000.0       0  \n",
       "4     689.0     679.0       0  \n",
       "\n",
       "[5 rows x 21 columns]"
      ]
     },
     "execution_count": 3,
     "metadata": {},
     "output_type": "execute_result"
    }
   ],
   "source": [
    "data=pd.read_csv('Cleaned_data.csv')\n",
    "data.head()"
   ]
  },
  {
   "cell_type": "code",
   "execution_count": 4,
   "metadata": {},
   "outputs": [
    {
     "data": {
      "text/html": [
       "<div>\n",
       "<style scoped>\n",
       "    .dataframe tbody tr th:only-of-type {\n",
       "        vertical-align: middle;\n",
       "    }\n",
       "\n",
       "    .dataframe tbody tr th {\n",
       "        vertical-align: top;\n",
       "    }\n",
       "\n",
       "    .dataframe thead th {\n",
       "        text-align: right;\n",
       "    }\n",
       "</style>\n",
       "<table border=\"1\" class=\"dataframe\">\n",
       "  <thead>\n",
       "    <tr style=\"text-align: right;\">\n",
       "      <th></th>\n",
       "      <th>bill_tot</th>\n",
       "      <th>ID</th>\n",
       "      <th>LIMIT_BAL</th>\n",
       "      <th>SEX</th>\n",
       "      <th>EDUCATION</th>\n",
       "      <th>MARRIAGE</th>\n",
       "      <th>AGE</th>\n",
       "      <th>PAY_0</th>\n",
       "      <th>PAY_2</th>\n",
       "      <th>PAY_3</th>\n",
       "      <th>PAY_4</th>\n",
       "      <th>PAY_5</th>\n",
       "      <th>PAY_6</th>\n",
       "      <th>PAY_AMT1</th>\n",
       "      <th>PAY_AMT2</th>\n",
       "      <th>PAY_AMT3</th>\n",
       "      <th>PAY_AMT4</th>\n",
       "      <th>PAY_AMT5</th>\n",
       "      <th>PAY_AMT6</th>\n",
       "      <th>Target</th>\n",
       "    </tr>\n",
       "  </thead>\n",
       "  <tbody>\n",
       "    <tr>\n",
       "      <th>0</th>\n",
       "      <td>7704.0</td>\n",
       "      <td>1</td>\n",
       "      <td>20000.0</td>\n",
       "      <td>2</td>\n",
       "      <td>2</td>\n",
       "      <td>1</td>\n",
       "      <td>8</td>\n",
       "      <td>2</td>\n",
       "      <td>2</td>\n",
       "      <td>-1</td>\n",
       "      <td>-1</td>\n",
       "      <td>-2</td>\n",
       "      <td>-2</td>\n",
       "      <td>0.0</td>\n",
       "      <td>689.0</td>\n",
       "      <td>0.0</td>\n",
       "      <td>0.0</td>\n",
       "      <td>0.0</td>\n",
       "      <td>0.0</td>\n",
       "      <td>1</td>\n",
       "    </tr>\n",
       "    <tr>\n",
       "      <th>1</th>\n",
       "      <td>17077.0</td>\n",
       "      <td>2</td>\n",
       "      <td>120000.0</td>\n",
       "      <td>2</td>\n",
       "      <td>2</td>\n",
       "      <td>2</td>\n",
       "      <td>8</td>\n",
       "      <td>-1</td>\n",
       "      <td>2</td>\n",
       "      <td>0</td>\n",
       "      <td>0</td>\n",
       "      <td>0</td>\n",
       "      <td>2</td>\n",
       "      <td>0.0</td>\n",
       "      <td>1000.0</td>\n",
       "      <td>1000.0</td>\n",
       "      <td>1000.0</td>\n",
       "      <td>0.0</td>\n",
       "      <td>2000.0</td>\n",
       "      <td>1</td>\n",
       "    </tr>\n",
       "    <tr>\n",
       "      <th>2</th>\n",
       "      <td>101653.0</td>\n",
       "      <td>3</td>\n",
       "      <td>90000.0</td>\n",
       "      <td>2</td>\n",
       "      <td>2</td>\n",
       "      <td>2</td>\n",
       "      <td>6</td>\n",
       "      <td>0</td>\n",
       "      <td>0</td>\n",
       "      <td>0</td>\n",
       "      <td>0</td>\n",
       "      <td>0</td>\n",
       "      <td>0</td>\n",
       "      <td>1518.0</td>\n",
       "      <td>1500.0</td>\n",
       "      <td>1000.0</td>\n",
       "      <td>1000.0</td>\n",
       "      <td>1000.0</td>\n",
       "      <td>5000.0</td>\n",
       "      <td>0</td>\n",
       "    </tr>\n",
       "    <tr>\n",
       "      <th>3</th>\n",
       "      <td>231334.0</td>\n",
       "      <td>4</td>\n",
       "      <td>50000.0</td>\n",
       "      <td>2</td>\n",
       "      <td>2</td>\n",
       "      <td>1</td>\n",
       "      <td>6</td>\n",
       "      <td>0</td>\n",
       "      <td>0</td>\n",
       "      <td>0</td>\n",
       "      <td>0</td>\n",
       "      <td>0</td>\n",
       "      <td>0</td>\n",
       "      <td>2000.0</td>\n",
       "      <td>2019.0</td>\n",
       "      <td>1200.0</td>\n",
       "      <td>1100.0</td>\n",
       "      <td>1069.0</td>\n",
       "      <td>1000.0</td>\n",
       "      <td>0</td>\n",
       "    </tr>\n",
       "    <tr>\n",
       "      <th>4</th>\n",
       "      <td>109339.0</td>\n",
       "      <td>5</td>\n",
       "      <td>50000.0</td>\n",
       "      <td>1</td>\n",
       "      <td>2</td>\n",
       "      <td>1</td>\n",
       "      <td>3</td>\n",
       "      <td>-1</td>\n",
       "      <td>0</td>\n",
       "      <td>-1</td>\n",
       "      <td>0</td>\n",
       "      <td>0</td>\n",
       "      <td>0</td>\n",
       "      <td>2000.0</td>\n",
       "      <td>36681.0</td>\n",
       "      <td>10000.0</td>\n",
       "      <td>9000.0</td>\n",
       "      <td>689.0</td>\n",
       "      <td>679.0</td>\n",
       "      <td>0</td>\n",
       "    </tr>\n",
       "  </tbody>\n",
       "</table>\n",
       "</div>"
      ],
      "text/plain": [
       "   bill_tot  ID  LIMIT_BAL  SEX  EDUCATION  MARRIAGE  AGE  PAY_0  PAY_2  \\\n",
       "0    7704.0   1    20000.0    2          2         1    8      2      2   \n",
       "1   17077.0   2   120000.0    2          2         2    8     -1      2   \n",
       "2  101653.0   3    90000.0    2          2         2    6      0      0   \n",
       "3  231334.0   4    50000.0    2          2         1    6      0      0   \n",
       "4  109339.0   5    50000.0    1          2         1    3     -1      0   \n",
       "\n",
       "   PAY_3  PAY_4  PAY_5  PAY_6  PAY_AMT1  PAY_AMT2  PAY_AMT3  PAY_AMT4  \\\n",
       "0     -1     -1     -2     -2       0.0     689.0       0.0       0.0   \n",
       "1      0      0      0      2       0.0    1000.0    1000.0    1000.0   \n",
       "2      0      0      0      0    1518.0    1500.0    1000.0    1000.0   \n",
       "3      0      0      0      0    2000.0    2019.0    1200.0    1100.0   \n",
       "4     -1      0      0      0    2000.0   36681.0   10000.0    9000.0   \n",
       "\n",
       "   PAY_AMT5  PAY_AMT6  Target  \n",
       "0       0.0       0.0       1  \n",
       "1       0.0    2000.0       1  \n",
       "2    1000.0    5000.0       0  \n",
       "3    1069.0    1000.0       0  \n",
       "4     689.0     679.0       0  "
      ]
     },
     "execution_count": 4,
     "metadata": {},
     "output_type": "execute_result"
    }
   ],
   "source": [
    "data=data.iloc[: , 1:]\n",
    "data.head()"
   ]
  },
  {
   "cell_type": "code",
   "execution_count": 5,
   "metadata": {},
   "outputs": [
    {
     "name": "stdout",
     "output_type": "stream",
     "text": [
      "No of rows:  30000\n",
      "No of rows:  20\n"
     ]
    }
   ],
   "source": [
    "print(\"No of rows: \",data.shape[0])\n",
    "print(\"No of rows: \",data.shape[1])"
   ]
  },
  {
   "cell_type": "markdown",
   "metadata": {},
   "source": [
    "### Step 3:Feature scaling of numerical attributes"
   ]
  },
  {
   "cell_type": "code",
   "execution_count": 6,
   "metadata": {},
   "outputs": [
    {
     "data": {
      "text/html": [
       "<div>\n",
       "<style scoped>\n",
       "    .dataframe tbody tr th:only-of-type {\n",
       "        vertical-align: middle;\n",
       "    }\n",
       "\n",
       "    .dataframe tbody tr th {\n",
       "        vertical-align: top;\n",
       "    }\n",
       "\n",
       "    .dataframe thead th {\n",
       "        text-align: right;\n",
       "    }\n",
       "</style>\n",
       "<table border=\"1\" class=\"dataframe\">\n",
       "  <thead>\n",
       "    <tr style=\"text-align: right;\">\n",
       "      <th></th>\n",
       "      <th>bill_tot</th>\n",
       "      <th>ID</th>\n",
       "      <th>LIMIT_BAL</th>\n",
       "      <th>SEX</th>\n",
       "      <th>EDUCATION</th>\n",
       "      <th>MARRIAGE</th>\n",
       "      <th>AGE</th>\n",
       "      <th>PAY_0</th>\n",
       "      <th>PAY_2</th>\n",
       "      <th>PAY_3</th>\n",
       "      <th>PAY_4</th>\n",
       "      <th>PAY_5</th>\n",
       "      <th>PAY_6</th>\n",
       "      <th>PAY_AMT1</th>\n",
       "      <th>PAY_AMT2</th>\n",
       "      <th>PAY_AMT3</th>\n",
       "      <th>PAY_AMT4</th>\n",
       "      <th>PAY_AMT5</th>\n",
       "      <th>PAY_AMT6</th>\n",
       "      <th>Target</th>\n",
       "    </tr>\n",
       "  </thead>\n",
       "  <tbody>\n",
       "    <tr>\n",
       "      <th>0</th>\n",
       "      <td>-0.690692</td>\n",
       "      <td>1</td>\n",
       "      <td>-1.136720</td>\n",
       "      <td>2</td>\n",
       "      <td>2</td>\n",
       "      <td>1</td>\n",
       "      <td>8</td>\n",
       "      <td>2</td>\n",
       "      <td>2</td>\n",
       "      <td>-1</td>\n",
       "      <td>-1</td>\n",
       "      <td>-2</td>\n",
       "      <td>-2</td>\n",
       "      <td>-0.341942</td>\n",
       "      <td>-0.227086</td>\n",
       "      <td>-0.296801</td>\n",
       "      <td>-0.308063</td>\n",
       "      <td>-0.314136</td>\n",
       "      <td>-0.293382</td>\n",
       "      <td>1</td>\n",
       "    </tr>\n",
       "    <tr>\n",
       "      <th>1</th>\n",
       "      <td>-0.665997</td>\n",
       "      <td>2</td>\n",
       "      <td>-0.365981</td>\n",
       "      <td>2</td>\n",
       "      <td>2</td>\n",
       "      <td>2</td>\n",
       "      <td>8</td>\n",
       "      <td>-1</td>\n",
       "      <td>2</td>\n",
       "      <td>0</td>\n",
       "      <td>0</td>\n",
       "      <td>0</td>\n",
       "      <td>2</td>\n",
       "      <td>-0.341942</td>\n",
       "      <td>-0.213588</td>\n",
       "      <td>-0.240005</td>\n",
       "      <td>-0.244230</td>\n",
       "      <td>-0.314136</td>\n",
       "      <td>-0.180878</td>\n",
       "      <td>1</td>\n",
       "    </tr>\n",
       "    <tr>\n",
       "      <th>2</th>\n",
       "      <td>-0.443170</td>\n",
       "      <td>3</td>\n",
       "      <td>-0.597202</td>\n",
       "      <td>2</td>\n",
       "      <td>2</td>\n",
       "      <td>2</td>\n",
       "      <td>6</td>\n",
       "      <td>0</td>\n",
       "      <td>0</td>\n",
       "      <td>0</td>\n",
       "      <td>0</td>\n",
       "      <td>0</td>\n",
       "      <td>0</td>\n",
       "      <td>-0.250292</td>\n",
       "      <td>-0.191887</td>\n",
       "      <td>-0.240005</td>\n",
       "      <td>-0.244230</td>\n",
       "      <td>-0.248683</td>\n",
       "      <td>-0.012122</td>\n",
       "      <td>0</td>\n",
       "    </tr>\n",
       "    <tr>\n",
       "      <th>3</th>\n",
       "      <td>-0.101507</td>\n",
       "      <td>4</td>\n",
       "      <td>-0.905498</td>\n",
       "      <td>2</td>\n",
       "      <td>2</td>\n",
       "      <td>1</td>\n",
       "      <td>6</td>\n",
       "      <td>0</td>\n",
       "      <td>0</td>\n",
       "      <td>0</td>\n",
       "      <td>0</td>\n",
       "      <td>0</td>\n",
       "      <td>0</td>\n",
       "      <td>-0.221191</td>\n",
       "      <td>-0.169361</td>\n",
       "      <td>-0.228645</td>\n",
       "      <td>-0.237846</td>\n",
       "      <td>-0.244166</td>\n",
       "      <td>-0.237130</td>\n",
       "      <td>0</td>\n",
       "    </tr>\n",
       "    <tr>\n",
       "      <th>4</th>\n",
       "      <td>-0.422920</td>\n",
       "      <td>5</td>\n",
       "      <td>-0.905498</td>\n",
       "      <td>1</td>\n",
       "      <td>2</td>\n",
       "      <td>1</td>\n",
       "      <td>3</td>\n",
       "      <td>-1</td>\n",
       "      <td>0</td>\n",
       "      <td>-1</td>\n",
       "      <td>0</td>\n",
       "      <td>0</td>\n",
       "      <td>0</td>\n",
       "      <td>-0.221191</td>\n",
       "      <td>1.335034</td>\n",
       "      <td>0.271165</td>\n",
       "      <td>0.266434</td>\n",
       "      <td>-0.269039</td>\n",
       "      <td>-0.255187</td>\n",
       "      <td>0</td>\n",
       "    </tr>\n",
       "  </tbody>\n",
       "</table>\n",
       "</div>"
      ],
      "text/plain": [
       "   bill_tot  ID  LIMIT_BAL  SEX  EDUCATION  MARRIAGE  AGE  PAY_0  PAY_2  \\\n",
       "0 -0.690692   1  -1.136720    2          2         1    8      2      2   \n",
       "1 -0.665997   2  -0.365981    2          2         2    8     -1      2   \n",
       "2 -0.443170   3  -0.597202    2          2         2    6      0      0   \n",
       "3 -0.101507   4  -0.905498    2          2         1    6      0      0   \n",
       "4 -0.422920   5  -0.905498    1          2         1    3     -1      0   \n",
       "\n",
       "   PAY_3  PAY_4  PAY_5  PAY_6  PAY_AMT1  PAY_AMT2  PAY_AMT3  PAY_AMT4  \\\n",
       "0     -1     -1     -2     -2 -0.341942 -0.227086 -0.296801 -0.308063   \n",
       "1      0      0      0      2 -0.341942 -0.213588 -0.240005 -0.244230   \n",
       "2      0      0      0      0 -0.250292 -0.191887 -0.240005 -0.244230   \n",
       "3      0      0      0      0 -0.221191 -0.169361 -0.228645 -0.237846   \n",
       "4     -1      0      0      0 -0.221191  1.335034  0.271165  0.266434   \n",
       "\n",
       "   PAY_AMT5  PAY_AMT6  Target  \n",
       "0 -0.314136 -0.293382       1  \n",
       "1 -0.314136 -0.180878       1  \n",
       "2 -0.248683 -0.012122       0  \n",
       "3 -0.244166 -0.237130       0  \n",
       "4 -0.269039 -0.255187       0  "
      ]
     },
     "execution_count": 6,
     "metadata": {},
     "output_type": "execute_result"
    }
   ],
   "source": [
    "col_to_norm = ['LIMIT_BAL','bill_tot', 'PAY_AMT1', 'PAY_AMT2', 'PAY_AMT3','PAY_AMT4','PAY_AMT5','PAY_AMT6']\n",
    "data[col_to_norm] = data[col_to_norm].apply(lambda x : (x-np.mean(x))/np.std(x))\n",
    "data.head()"
   ]
  },
  {
   "cell_type": "markdown",
   "metadata": {},
   "source": [
    "### Step 4: Spiliting Dataset into training(70%) and test set(30%)"
   ]
  },
  {
   "cell_type": "code",
   "execution_count": 7,
   "metadata": {},
   "outputs": [],
   "source": [
    "X = data.iloc[:,:-1].values\n",
    "y = data.iloc[:,-1].values"
   ]
  },
  {
   "cell_type": "code",
   "execution_count": 8,
   "metadata": {},
   "outputs": [],
   "source": [
    "X_train,X_test,y_train,y_test = train_test_split(X,y,test_size = 0.3,random_state = 1)"
   ]
  },
  {
   "cell_type": "markdown",
   "metadata": {},
   "source": [
    "### Step 5: Applying Machine Learning Algorithms for Classification Problem"
   ]
  },
  {
   "cell_type": "markdown",
   "metadata": {},
   "source": [
    "### 1)Logistic Regression\n",
    "In Logistic Regression, we wish to model a dependent variable(Y) in terms of one or more independent variables(X). It is a method for classification. This algorithm is used for the dependent variable that is Categorical. Y is modeled using a function that gives output between 0 and 1 for all values of X. In Logistic Regression, the Sigmoid (aka Logistic) Function is used"
   ]
  },
  {
   "cell_type": "code",
   "execution_count": 9,
   "metadata": {},
   "outputs": [],
   "source": [
    "# Logistic regression User Defined\n",
    "class logistic_regression:\n",
    "    def __init__(self,x,y): \n",
    "        self.intercept = np.ones((x.shape[0], 1))\n",
    "        self.x = np.concatenate((self.intercept, x), axis=1)\n",
    "        self.weight = np.zeros(self.x.shape[1])\n",
    "        self.y = y\n",
    " \n",
    "    def sigmoid(self, x, weight):\n",
    "        z = np.dot(x, weight)\n",
    "        return 1 / (1 + np.exp(-z))\n",
    " \n",
    "    def loss(self, h, y):\n",
    "        return (-y * np.log(h) - (1 - y) * np.log(1 - h)).mean()\n",
    " \n",
    "    def gradient_descent(self, X, h, y):\n",
    "        return np.dot(X.T, (h - y)) / y.shape[0]\n",
    " \n",
    "    def fit(self, lr , iterations):\n",
    "        for i in range(iterations):\n",
    "            sigma = self.sigmoid(self.x, self.weight)\n",
    "            loss = self.loss(sigma,self.y)\n",
    "            dW = self.gradient_descent(self.x , sigma, self.y)\n",
    "            #Updating the weights\n",
    "            self.weight -= lr * dW\n",
    "        return print('Working successfully')\n",
    "    def predict(self, x_new , treshold):\n",
    "        x_new = np.concatenate((self.intercept, x_new), axis=1)\n",
    "        result = self.sigmoid(x_new, self.weight)\n",
    "        result = result >= treshold\n",
    "        y_pred = np.zeros(result.shape[0])\n",
    "        for i in range(len(y_pred)):\n",
    "            if result[i].any() == True:\n",
    "                y_pred[i] = 1\n",
    "            else:\n",
    "                continue\n",
    " \n",
    "        return y_pred"
   ]
  },
  {
   "cell_type": "code",
   "execution_count": 10,
   "metadata": {},
   "outputs": [
    {
     "name": "stdout",
     "output_type": "stream",
     "text": [
      "Working successfully\n"
     ]
    }
   ],
   "source": [
    "regressor = logistic_regression(X,y)\n",
    "regressor.fit(0.1 , 5000)\n",
    "pred_lr = regressor.predict(X,0.5)"
   ]
  },
  {
   "cell_type": "code",
   "execution_count": 11,
   "metadata": {},
   "outputs": [
    {
     "data": {
      "text/html": [
       "<div>\n",
       "<style scoped>\n",
       "    .dataframe tbody tr th:only-of-type {\n",
       "        vertical-align: middle;\n",
       "    }\n",
       "\n",
       "    .dataframe tbody tr th {\n",
       "        vertical-align: top;\n",
       "    }\n",
       "\n",
       "    .dataframe thead th {\n",
       "        text-align: right;\n",
       "    }\n",
       "</style>\n",
       "<table border=\"1\" class=\"dataframe\">\n",
       "  <thead>\n",
       "    <tr style=\"text-align: right;\">\n",
       "      <th></th>\n",
       "      <th>Model</th>\n",
       "      <th>Accuracy</th>\n",
       "      <th>Precision</th>\n",
       "      <th>Recall</th>\n",
       "      <th>F1 Score</th>\n",
       "      <th>ROC_AUC</th>\n",
       "    </tr>\n",
       "  </thead>\n",
       "  <tbody>\n",
       "    <tr>\n",
       "      <th>0</th>\n",
       "      <td>Logistic Regression</td>\n",
       "      <td>0.7788</td>\n",
       "      <td>0.0</td>\n",
       "      <td>0.0</td>\n",
       "      <td>0.0</td>\n",
       "      <td>0.5</td>\n",
       "    </tr>\n",
       "  </tbody>\n",
       "</table>\n",
       "</div>"
      ],
      "text/plain": [
       "                 Model  Accuracy  Precision  Recall  F1 Score  ROC_AUC\n",
       "0  Logistic Regression    0.7788        0.0     0.0       0.0      0.5"
      ]
     },
     "execution_count": 11,
     "metadata": {},
     "output_type": "execute_result"
    }
   ],
   "source": [
    "roc=roc_auc_score(y, pred_lr)\n",
    "acc = accuracy_score(y, pred_lr)\n",
    "prec = precision_score(y, pred_lr)\n",
    "rec = recall_score(y, pred_lr)\n",
    "f1 = f1_score(y, pred_lr)\n",
    "results = pd.DataFrame([['Logistic Regression', acc,prec,rec, f1,roc]],\n",
    "               columns = ['Model', 'Accuracy', 'Precision', 'Recall', 'F1 Score','ROC_AUC'])\n",
    "results"
   ]
  },
  {
   "cell_type": "code",
   "execution_count": 12,
   "metadata": {},
   "outputs": [
    {
     "data": {
      "image/png": "[encoded data removed]",
      "text/plain": [
       "<Figure size 432x432 with 1 Axes>"
      ]
     },
     "metadata": {
      "needs_background": "light"
     },
     "output_type": "display_data"
    }
   ],
   "source": [
    "cm = confusion_matrix(y, pred_lr)\n",
    "fig, ax = plot_confusion_matrix(conf_mat=cm, figsize=(6, 6), cmap=\"coolwarm\")\n",
    "plt.xlabel('Predictions', fontsize=15)\n",
    "plt.ylabel('Actuals', fontsize=15)\n",
    "plt.title('Confusion Matrix', fontsize=18)\n",
    "plt.show()"
   ]
  },
  {
   "cell_type": "code",
   "execution_count": 13,
   "metadata": {},
   "outputs": [
    {
     "data": {
      "text/plain": [
       "<AxesSubplot:>"
      ]
     },
     "execution_count": 13,
     "metadata": {},
     "output_type": "execute_result"
    },
    {
     "data": {
      "image/png": "[encoded data removed]",
      "text/plain": [
       "<Figure size 432x288 with 2 Axes>"
      ]
     },
     "metadata": {
      "needs_background": "light"
     },
     "output_type": "display_data"
    }
   ],
   "source": [
    "cm = confusion_matrix(y, pred_lr)\n",
    "sns.heatmap(cm,annot= True,linewidths=1,cmap=plt.cm.Set1)"
   ]
  },
  {
   "cell_type": "markdown",
   "metadata": {},
   "source": [
    "#### Built in Logistic Regression method"
   ]
  },
  {
   "cell_type": "code",
   "execution_count": 14,
   "metadata": {},
   "outputs": [],
   "source": [
    "logmodel = LogisticRegression(random_state=42)\n",
    "logmodel.fit(X_train,y_train)\n",
    "y_pred_lr = logmodel.predict(X_test)"
   ]
  },
  {
   "cell_type": "code",
   "execution_count": 15,
   "metadata": {},
   "outputs": [
    {
     "data": {
      "text/html": [
       "<div>\n",
       "<style scoped>\n",
       "    .dataframe tbody tr th:only-of-type {\n",
       "        vertical-align: middle;\n",
       "    }\n",
       "\n",
       "    .dataframe tbody tr th {\n",
       "        vertical-align: top;\n",
       "    }\n",
       "\n",
       "    .dataframe thead th {\n",
       "        text-align: right;\n",
       "    }\n",
       "</style>\n",
       "<table border=\"1\" class=\"dataframe\">\n",
       "  <thead>\n",
       "    <tr style=\"text-align: right;\">\n",
       "      <th></th>\n",
       "      <th>Model</th>\n",
       "      <th>Accuracy</th>\n",
       "      <th>Precision</th>\n",
       "      <th>Recall</th>\n",
       "      <th>F1 Score</th>\n",
       "      <th>ROC_AUC</th>\n",
       "    </tr>\n",
       "  </thead>\n",
       "  <tbody>\n",
       "    <tr>\n",
       "      <th>0</th>\n",
       "      <td>Logistic Regression</td>\n",
       "      <td>0.804778</td>\n",
       "      <td>0.685496</td>\n",
       "      <td>0.2245</td>\n",
       "      <td>0.33823</td>\n",
       "      <td>0.597536</td>\n",
       "    </tr>\n",
       "  </tbody>\n",
       "</table>\n",
       "</div>"
      ],
      "text/plain": [
       "                 Model  Accuracy  Precision  Recall  F1 Score   ROC_AUC\n",
       "0  Logistic Regression  0.804778   0.685496  0.2245   0.33823  0.597536"
      ]
     },
     "execution_count": 15,
     "metadata": {},
     "output_type": "execute_result"
    }
   ],
   "source": [
    "roc=roc_auc_score(y_test, y_pred_lr)\n",
    "acc = accuracy_score(y_test, y_pred_lr)\n",
    "prec = precision_score(y_test, y_pred_lr)\n",
    "rec = recall_score(y_test, y_pred_lr)\n",
    "f1 = f1_score(y_test, y_pred_lr)\n",
    "results = pd.DataFrame([['Logistic Regression', acc,prec,rec, f1,roc]],\n",
    "               columns = ['Model', 'Accuracy', 'Precision', 'Recall', 'F1 Score','ROC_AUC'])\n",
    "results"
   ]
  },
  {
   "cell_type": "code",
   "execution_count": 16,
   "metadata": {},
   "outputs": [
    {
     "data": {
      "image/png": "[encoded data removed]",
      "text/plain": [
       "<Figure size 432x432 with 1 Axes>"
      ]
     },
     "metadata": {
      "needs_background": "light"
     },
     "output_type": "display_data"
    }
   ],
   "source": [
    "cm = confusion_matrix(y_test, y_pred_lr)\n",
    "fig, ax = plot_confusion_matrix(conf_mat=cm, figsize=(6, 6), cmap=\"cool\")\n",
    "plt.xlabel('Predictions', fontsize=15)\n",
    "plt.ylabel('Actuals', fontsize=15)\n",
    "plt.title('Confusion Matrix', fontsize=18)\n",
    "plt.show()"
   ]
  },
  {
   "cell_type": "code",
   "execution_count": 17,
   "metadata": {},
   "outputs": [
    {
     "data": {
      "text/plain": [
       "<AxesSubplot:>"
      ]
     },
     "execution_count": 17,
     "metadata": {},
     "output_type": "execute_result"
    },
    {
     "data": {
      "image/png": "[encoded data removed]",
      "text/plain": [
       "<Figure size 432x288 with 2 Axes>"
      ]
     },
     "metadata": {
      "needs_background": "light"
     },
     "output_type": "display_data"
    }
   ],
   "source": [
    "cm = confusion_matrix(y_test, y_pred_lr)\n",
    "sns.heatmap(cm,annot= True,linewidths=1,cmap=plt.cm.Greens)"
   ]
  },
  {
   "cell_type": "markdown",
   "metadata": {},
   "source": [
    "### 2)Support Vector Machine\n",
    "SVM or Support Vector Machine is a linear model for classification and regression problems. It can solve linear and non-linear problems.The algorithm creates a line or a hyperplane which separates the data into classes using different kernel tricks like = 'linear','rbf' (gaussian).\n",
    "\n",
    "Thus SVM tries to make a decision boundary in such a way that the separation between the two classes(that street) is as wide as possible."
   ]
  },
  {
   "cell_type": "code",
   "execution_count": 18,
   "metadata": {},
   "outputs": [],
   "source": [
    "scv = SVC(kernel = 'rbf', random_state = 42)\n",
    "scv.fit(X_train, y_train)\n",
    "y_pred_svm = scv.predict(X_test)"
   ]
  },
  {
   "cell_type": "code",
   "execution_count": 19,
   "metadata": {},
   "outputs": [],
   "source": [
    "roc=roc_auc_score(y_test, y_pred_svm)\n",
    "acc = accuracy_score(y_test, y_pred_svm)\n",
    "prec = precision_score(y_test, y_pred_svm)\n",
    "rec = recall_score(y_test, y_pred_svm)\n",
    "f1 = f1_score(y_test, y_pred_svm)\n",
    "\n",
    "model = pd.DataFrame([['Support Vector Machine', acc,prec,rec, f1,roc]],\n",
    "               columns = ['Model', 'Accuracy', 'Precision', 'Recall', 'F1 Score','ROC_AUC'])\n",
    "results = results.append(model, ignore_index = True)"
   ]
  },
  {
   "cell_type": "code",
   "execution_count": 20,
   "metadata": {},
   "outputs": [
    {
     "data": {
      "image/png": "[encoded data removed]",
      "text/plain": [
       "<Figure size 432x432 with 1 Axes>"
      ]
     },
     "metadata": {
      "needs_background": "light"
     },
     "output_type": "display_data"
    }
   ],
   "source": [
    "cm = confusion_matrix(y_test, y_pred_svm)\n",
    "fig, ax = plot_confusion_matrix(conf_mat=cm, figsize=(6, 6), cmap=\"rainbow\")\n",
    "plt.xlabel('Predictions', fontsize=15)\n",
    "plt.ylabel('Actuals', fontsize=15)\n",
    "plt.title('Confusion Matrix', fontsize=18)\n",
    "plt.show()"
   ]
  },
  {
   "cell_type": "code",
   "execution_count": 21,
   "metadata": {
    "scrolled": true
   },
   "outputs": [
    {
     "data": {
      "text/plain": [
       "<AxesSubplot:>"
      ]
     },
     "execution_count": 21,
     "metadata": {},
     "output_type": "execute_result"
    },
    {
     "data": {
      "image/png": "[encoded data removed]",
      "text/plain": [
       "<Figure size 432x288 with 2 Axes>"
      ]
     },
     "metadata": {
      "needs_background": "light"
     },
     "output_type": "display_data"
    }
   ],
   "source": [
    "cm = confusion_matrix(y_test, y_pred_svm)\n",
    "sns.heatmap(cm,annot= True,linewidths=1,cmap=plt.cm.Purples)"
   ]
  },
  {
   "cell_type": "markdown",
   "metadata": {},
   "source": [
    "### 3)Stochastic Gradient Descent\n",
    "Stochastic Gradient Descent (SGD) is a simple yet very efficient approach to discriminative learning of linear classifiers under convex loss functions such as (linear) Support Vector Machines and Logistic Regression.It is on of the Gradient Descent Algorithm.It uses only a single example (a batch size of 1) per iteration. Given enough iterations, SGD works but is very noisy. The term \"stochastic\" indicates that the one example comprising each batch is chosen at random."
   ]
  },
  {
   "cell_type": "code",
   "execution_count": 22,
   "metadata": {},
   "outputs": [],
   "source": [
    "sgd = SGDClassifier(loss='log', penalty='l1', learning_rate='optimal',random_state=1)\n",
    "sgd.fit(X_train, y_train)\n",
    "y_pred_sgd = sgd.predict(X_test)"
   ]
  },
  {
   "cell_type": "code",
   "execution_count": 23,
   "metadata": {},
   "outputs": [],
   "source": [
    "roc=roc_auc_score(y_test, y_pred_sgd)\n",
    "acc = accuracy_score(y_test, y_pred_sgd)\n",
    "prec = precision_score(y_test, y_pred_sgd)\n",
    "rec = recall_score(y_test, y_pred_sgd)\n",
    "f1 = f1_score(y_test, y_pred_sgd)\n",
    "\n",
    "model = pd.DataFrame([['Stochastic Gradient Descent', acc,prec,rec, f1,roc]],\n",
    "               columns = ['Model', 'Accuracy', 'Precision', 'Recall', 'F1 Score','ROC_AUC'])\n",
    "results = results.append(model, ignore_index = True)"
   ]
  },
  {
   "cell_type": "code",
   "execution_count": 24,
   "metadata": {},
   "outputs": [
    {
     "data": {
      "image/png": "[encoded data removed]",
      "text/plain": [
       "<Figure size 432x432 with 1 Axes>"
      ]
     },
     "metadata": {
      "needs_background": "light"
     },
     "output_type": "display_data"
    }
   ],
   "source": [
    "cm = confusion_matrix(y_test, y_pred_sgd)\n",
    "fig, ax = plot_confusion_matrix(conf_mat=cm, figsize=(6, 6), cmap=\"flag\")\n",
    "plt.xlabel('Predictions', fontsize=15)\n",
    "plt.ylabel('Actuals', fontsize=15)\n",
    "plt.title('Confusion Matrix', fontsize=18)\n",
    "plt.show()"
   ]
  },
  {
   "cell_type": "code",
   "execution_count": 25,
   "metadata": {},
   "outputs": [
    {
     "data": {
      "text/plain": [
       "<AxesSubplot:>"
      ]
     },
     "execution_count": 25,
     "metadata": {},
     "output_type": "execute_result"
    },
    {
     "data": {
      "image/png": "[encoded data removed]",
      "text/plain": [
       "<Figure size 432x288 with 2 Axes>"
      ]
     },
     "metadata": {
      "needs_background": "light"
     },
     "output_type": "display_data"
    }
   ],
   "source": [
    "cm = confusion_matrix(y_test, y_pred_svm)\n",
    "sns.heatmap(cm,annot= True,linewidths=1,cmap=plt.cm.Blues)"
   ]
  },
  {
   "cell_type": "markdown",
   "metadata": {},
   "source": [
    "### 4)K-Nearest Neighbour\n",
    "KNN can be used for both classification and regression predictive problems. However, it is more widely used in classification problems in the industry.\n",
    "\n",
    "KNN focuses on easy implementation and good performance at the cost of computational time, but in our case the size of the dataset is considerably small so we can apply KNN.\n",
    "We can implement a KNN model by following the below steps:\n",
    "* Load the data\n",
    "* Initialise the value of k\n",
    "* For getting the predicted class, iterate from 1 to total number of training data points\n",
    "* Calculate the distance between test data and each row of training data. Here we will use Euclidean distance as our distance  metric since it’s the most popular method. The other metrics that can be used are Chebyshev, cosine, etc.\n",
    "* Sort the calculated distances in ascending order based on distance values\n",
    "* Get top k rows from the sorted array\n",
    "* Get the most frequent class of these rows\n",
    "* Return the predicted class"
   ]
  },
  {
   "cell_type": "code",
   "execution_count": 26,
   "metadata": {},
   "outputs": [
    {
     "data": {
      "text/plain": [
       "Text(0, 0.5, 'Error Rate')"
      ]
     },
     "execution_count": 26,
     "metadata": {},
     "output_type": "execute_result"
    },
    {
     "data": {
      "image/png": "[encoded data removed]",
      "text/plain": [
       "<Figure size 720x432 with 1 Axes>"
      ]
     },
     "metadata": {
      "needs_background": "light"
     },
     "output_type": "display_data"
    }
   ],
   "source": [
    "error_rate = []\n",
    "\n",
    "for i in range(1,40):\n",
    "    knn = KNeighborsClassifier(n_neighbors=i,n_jobs=-1)\n",
    "    knn.fit(X_train,y_train)\n",
    "    pred_i = knn.predict(X_test)\n",
    "    error_rate.append(np.mean(pred_i != y_test))\n",
    "\n",
    "plt.figure(figsize=(10,6))\n",
    "plt.plot(range(1,40),error_rate,color='blue', linestyle='dashed', marker='o',\n",
    "         markerfacecolor='red', markersize=10)\n",
    "plt.title('Error Rate vs. K Value')\n",
    "plt.xlabel('K')\n",
    "plt.ylabel('Error Rate')"
   ]
  },
  {
   "cell_type": "code",
   "execution_count": 27,
   "metadata": {},
   "outputs": [
    {
     "name": "stdout",
     "output_type": "stream",
     "text": [
      "Correct predictions for k = 11 : 6926\n",
      "Correct predictions for k = 32 : 7000\n",
      "Correct predictions for k = 14 : 6983\n",
      "Correct predictions for k = 39 : 6998\n",
      "Correct predictions for k = 22 : 6997\n",
      "Correct predictions for k = 35 : 6998\n",
      "Correct predictions for k = 26 : 6999\n",
      "Correct predictions for k = 18 : 6992\n",
      "Correct predictions for k = 41 : 6998\n",
      "Correct predictions for k = 49 : 7000\n",
      "Correct predictions for k = 14 : 6983\n",
      "Correct predictions for k = 23 : 6989\n",
      "Correct predictions for k = 36 : 6998\n",
      "Correct predictions for k = 30 : 6999\n",
      "Correct predictions for k = 30 : 6999\n"
     ]
    },
    {
     "data": {
      "image/png": "[encoded data removed]",
      "text/plain": [
       "<Figure size 432x288 with 1 Axes>"
      ]
     },
     "metadata": {
      "needs_background": "light"
     },
     "output_type": "display_data"
    }
   ],
   "source": [
    "accuracies = []\n",
    "kvalues = []\n",
    "for x in range(15):\n",
    "    k = np.random.randint(1,50)\n",
    "    kvalues.append(k)\n",
    "    classifier = KNeighborsClassifier(n_neighbors = k)\n",
    "    classifier.fit(X_train, y_train)\n",
    "    Y_pred = classifier.predict(X_test)\n",
    "    cm = confusion_matrix(y_test,Y_pred)\n",
    "    print('Correct predictions for k =',k,':',np.sum(np.array([confusion_matrix(y_test,Y_pred)[x][x] for x in range(2)])))\n",
    "    accuracies.append((cm[0][0]+cm[1][1])/(cm[0][0]+cm[0][1]+cm[1][0]+cm[1][1]))\n",
    "plt.scatter(kvalues,accuracies)\n",
    "plt.xlabel('value of k')\n",
    "plt.ylabel('accuracy')\n",
    "plt.show()"
   ]
  },
  {
   "cell_type": "code",
   "execution_count": 28,
   "metadata": {},
   "outputs": [],
   "source": [
    "knn = KNeighborsClassifier(n_neighbors=49)\n",
    "knn.fit(X_train,y_train)\n",
    "y_pred_knn = knn.predict(X_test)"
   ]
  },
  {
   "cell_type": "code",
   "execution_count": 29,
   "metadata": {},
   "outputs": [],
   "source": [
    "roc=roc_auc_score(y_test, y_pred_knn)\n",
    "acc = accuracy_score(y_test, y_pred_knn)\n",
    "prec = precision_score(y_test, y_pred_knn)\n",
    "rec = recall_score(y_test, y_pred_knn)\n",
    "f1 = f1_score(y_test, y_pred_knn)\n",
    "\n",
    "res = pd.DataFrame([['K-Nearest Neighbour', acc,prec,rec, f1,roc]],\n",
    "               columns = ['Model', 'Accuracy', 'Precision', 'Recall', 'F1 Score','ROC_AUC'])\n",
    "results = results.append(res, ignore_index = True)"
   ]
  },
  {
   "cell_type": "code",
   "execution_count": 30,
   "metadata": {},
   "outputs": [
    {
     "data": {
      "image/png": "[encoded data removed]",
      "text/plain": [
       "<Figure size 432x432 with 1 Axes>"
      ]
     },
     "metadata": {
      "needs_background": "light"
     },
     "output_type": "display_data"
    }
   ],
   "source": [
    "cm = confusion_matrix(y_test, y_pred_knn)\n",
    "fig, ax = plot_confusion_matrix(conf_mat=cm, figsize=(6, 6), cmap=\"Spectral\")\n",
    "plt.xlabel('Predictions', fontsize=15)\n",
    "plt.ylabel('Actuals', fontsize=15)\n",
    "plt.title('Confusion Matrix', fontsize=18)\n",
    "plt.show()"
   ]
  },
  {
   "cell_type": "code",
   "execution_count": 31,
   "metadata": {},
   "outputs": [
    {
     "data": {
      "text/plain": [
       "<AxesSubplot:>"
      ]
     },
     "execution_count": 31,
     "metadata": {},
     "output_type": "execute_result"
    },
    {
     "data": {
      "image/png": "[encoded data removed]",
      "text/plain": [
       "<Figure size 432x288 with 2 Axes>"
      ]
     },
     "metadata": {
      "needs_background": "light"
     },
     "output_type": "display_data"
    }
   ],
   "source": [
    "cm = confusion_matrix(y_test, y_pred_knn)\n",
    "sns.heatmap(cm,annot= True,linewidths=1,cmap=plt.cm.Oranges)"
   ]
  },
  {
   "cell_type": "markdown",
   "metadata": {},
   "source": [
    "### 5)Gaussian Naive Bayes\n",
    "Naive Bayes classifiers are a collection of classification algorithms based on Bayes Theorem. There are three types of Naive Bayes models: Gaussian, Multinomial, and Bernoulli. Gaussian Naive Bayes – This is a variant of Naive Bayes which supports continuous values and has an assumption that each class is normally distributed."
   ]
  },
  {
   "cell_type": "code",
   "execution_count": 32,
   "metadata": {},
   "outputs": [],
   "source": [
    "naive_bayes = GaussianNB()\n",
    "naive_bayes.fit(X_train,y_train)\n",
    "y_pred_nb =naive_bayes.predict(X_test)"
   ]
  },
  {
   "cell_type": "code",
   "execution_count": 33,
   "metadata": {},
   "outputs": [],
   "source": [
    "roc=roc_auc_score(y_test, y_pred_nb)\n",
    "acc = accuracy_score(y_test, y_pred_nb)\n",
    "prec = precision_score(y_test, y_pred_nb)\n",
    "rec = recall_score(y_test, y_pred_nb)\n",
    "f1 = f1_score(y_test, y_pred_nb)\n",
    "\n",
    "model= pd.DataFrame([['Gaussian Naive Bayes', acc,prec,rec, f1,roc]],\n",
    "               columns = ['Model', 'Accuracy', 'Precision', 'Recall', 'F1 Score','ROC_AUC'])\n",
    "results = results.append(model, ignore_index = True)"
   ]
  },
  {
   "cell_type": "code",
   "execution_count": 34,
   "metadata": {},
   "outputs": [
    {
     "data": {
      "image/png": "[encoded data removed]",
      "text/plain": [
       "<Figure size 432x432 with 1 Axes>"
      ]
     },
     "metadata": {
      "needs_background": "light"
     },
     "output_type": "display_data"
    }
   ],
   "source": [
    "cm = confusion_matrix(y_test, y_pred_nb)\n",
    "fig, ax = plot_confusion_matrix(conf_mat=cm, figsize=(6, 6), cmap=\"prism\")\n",
    "plt.xlabel('Predictions', fontsize=15)\n",
    "plt.ylabel('Actuals', fontsize=15)\n",
    "plt.title('Confusion Matrix', fontsize=18)\n",
    "plt.show()"
   ]
  },
  {
   "cell_type": "code",
   "execution_count": 35,
   "metadata": {},
   "outputs": [
    {
     "data": {
      "text/plain": [
       "<AxesSubplot:>"
      ]
     },
     "execution_count": 35,
     "metadata": {},
     "output_type": "execute_result"
    },
    {
     "data": {
      "image/png": "[encoded data removed]",
      "text/plain": [
       "<Figure size 432x288 with 2 Axes>"
      ]
     },
     "metadata": {
      "needs_background": "light"
     },
     "output_type": "display_data"
    }
   ],
   "source": [
    "cm = confusion_matrix(y_test, y_pred_nb)\n",
    "sns.heatmap(cm,annot= True,linewidths=1,cmap=plt.cm.Greys)"
   ]
  },
  {
   "cell_type": "markdown",
   "metadata": {},
   "source": [
    "### 6)Decision Tree Classification\n",
    "The idea of a decision tree is to divide the data set into smaller data sets based on the descriptive features until you reach a small enough set that contains data points that fall under one label.\n",
    "\n",
    "#### Advantages of Decision Trees\n",
    "Decision trees are easy to interpret. To build a decision tree requires little data preparation from the user- there is no need to normalize data\n",
    "\n",
    "#### Disadvantages of Decision Trees\n",
    "Decision trees are likely to overfit noisy data. The probability of overfitting on noise increases as a tree gets deeper."
   ]
  },
  {
   "cell_type": "code",
   "execution_count": 36,
   "metadata": {},
   "outputs": [],
   "source": [
    "dct = DecisionTreeClassifier(max_depth=3,criterion = 'gini')\n",
    "dct.fit(X_train,y_train)\n",
    "y_pred_dct = dct.predict(X_test)"
   ]
  },
  {
   "cell_type": "code",
   "execution_count": 37,
   "metadata": {},
   "outputs": [],
   "source": [
    "roc=roc_auc_score(y_test, y_pred_dct)\n",
    "acc = accuracy_score(y_test, y_pred_dct)\n",
    "prec = precision_score(y_test, y_pred_dct)\n",
    "rec = recall_score(y_test, y_pred_dct)\n",
    "f1 = f1_score(y_test, y_pred_dct)\n",
    "\n",
    "model = pd.DataFrame([['Decision Tree Classifier', acc,prec,rec, f1,roc]],\n",
    "               columns = ['Model', 'Accuracy', 'Precision', 'Recall', 'F1 Score','ROC_AUC'])\n",
    "results = results.append(model, ignore_index = True)"
   ]
  },
  {
   "cell_type": "code",
   "execution_count": 38,
   "metadata": {},
   "outputs": [
    {
     "data": {
      "image/png": "[encoded data removed]",
      "text/plain": [
       "<Figure size 432x432 with 1 Axes>"
      ]
     },
     "metadata": {
      "needs_background": "light"
     },
     "output_type": "display_data"
    }
   ],
   "source": [
    "cm = confusion_matrix(y_test, y_pred_dct)\n",
    "fig, ax = plot_confusion_matrix(conf_mat=cm, figsize=(6, 6), cmap=\"tab10\")\n",
    "plt.xlabel('Predictions', fontsize=15)\n",
    "plt.ylabel('Actuals', fontsize=15)\n",
    "plt.title('Confusion Matrix', fontsize=18)\n",
    "plt.show()"
   ]
  },
  {
   "cell_type": "code",
   "execution_count": 39,
   "metadata": {},
   "outputs": [
    {
     "data": {
      "text/plain": [
       "<AxesSubplot:>"
      ]
     },
     "execution_count": 39,
     "metadata": {},
     "output_type": "execute_result"
    },
    {
     "data": {
      "image/png": "[encoded data removed]",
      "text/plain": [
       "<Figure size 432x288 with 2 Axes>"
      ]
     },
     "metadata": {
      "needs_background": "light"
     },
     "output_type": "display_data"
    }
   ],
   "source": [
    "cm = confusion_matrix(y_test, y_pred_dct)\n",
    "sns.heatmap(cm,annot= True,linewidths=1,cmap=plt.cm.Reds)"
   ]
  },
  {
   "cell_type": "markdown",
   "metadata": {},
   "source": [
    "### 7)Random Forest Classification\n",
    "Random Forest is a supervised learning algorithm, it creates a forest and makes it somehow random. The \"forest“ it builds, is an ensemble of Decision Trees.\n",
    "\n",
    "##### Step1 \n",
    "Pick at random K data points from the training set\n",
    "\n",
    "##### Step2\n",
    "Build the Decision tree associated to these K data points\n",
    "\n",
    "##### Step3\n",
    "Choose the Number of trees(n) you want to build and repeat STEP1 and STEP2\n",
    "\n",
    "##### Step4\n",
    "For a new data points make each one of your 'n' trees predict the category to which the data point belongs and assign the new data point to the category that wins the majority vote"
   ]
  },
  {
   "cell_type": "code",
   "execution_count": 40,
   "metadata": {},
   "outputs": [],
   "source": [
    "rfc = RandomForestClassifier(n_estimators = 100,criterion = 'entropy',random_state = 0)\n",
    "rfc.fit(X_train,y_train)\n",
    "y_pred_rfc = rfc.predict(X_test)"
   ]
  },
  {
   "cell_type": "code",
   "execution_count": 41,
   "metadata": {},
   "outputs": [],
   "source": [
    "roc=roc_auc_score(y_test, y_pred_rfc)\n",
    "acc = accuracy_score(y_test, y_pred_rfc)\n",
    "prec = precision_score(y_test, y_pred_rfc)\n",
    "rec = recall_score(y_test, y_pred_rfc)\n",
    "f1 = f1_score(y_test, y_pred_rfc)\n",
    "\n",
    "model = pd.DataFrame([['Random Forest Classifier', acc,prec,rec, f1,roc]],\n",
    "               columns = ['Model', 'Accuracy', 'Precision', 'Recall', 'F1 Score','ROC_AUC'])\n",
    "\n",
    "results = results.append(model, ignore_index = True)"
   ]
  },
  {
   "cell_type": "code",
   "execution_count": 42,
   "metadata": {},
   "outputs": [
    {
     "data": {
      "image/png": "[encoded data removed]",
      "text/plain": [
       "<Figure size 432x432 with 1 Axes>"
      ]
     },
     "metadata": {
      "needs_background": "light"
     },
     "output_type": "display_data"
    }
   ],
   "source": [
    "cm = confusion_matrix(y_test, y_pred_rfc)\n",
    "fig, ax = plot_confusion_matrix(conf_mat=cm, figsize=(6, 6), cmap=\"gist_rainbow\")\n",
    "plt.xlabel('Predictions', fontsize=15)\n",
    "plt.ylabel('Actuals', fontsize=15)\n",
    "plt.title('Confusion Matrix', fontsize=18)\n",
    "plt.show()"
   ]
  },
  {
   "cell_type": "code",
   "execution_count": 43,
   "metadata": {},
   "outputs": [
    {
     "data": {
      "text/plain": [
       "<AxesSubplot:>"
      ]
     },
     "execution_count": 43,
     "metadata": {},
     "output_type": "execute_result"
    },
    {
     "data": {
      "image/png": "[encoded data removed]",
      "text/plain": [
       "<Figure size 432x288 with 2 Axes>"
      ]
     },
     "metadata": {
      "needs_background": "light"
     },
     "output_type": "display_data"
    }
   ],
   "source": [
    "cm = confusion_matrix(y_test, y_pred_rfc)\n",
    "sns.heatmap(cm,annot= True,linewidths=1,cmap=plt.cm.PuRd)"
   ]
  },
  {
   "cell_type": "code",
   "execution_count": 44,
   "metadata": {},
   "outputs": [
    {
     "data": {
      "text/html": [
       "<div>\n",
       "<style scoped>\n",
       "    .dataframe tbody tr th:only-of-type {\n",
       "        vertical-align: middle;\n",
       "    }\n",
       "\n",
       "    .dataframe tbody tr th {\n",
       "        vertical-align: top;\n",
       "    }\n",
       "\n",
       "    .dataframe thead th {\n",
       "        text-align: right;\n",
       "    }\n",
       "</style>\n",
       "<table border=\"1\" class=\"dataframe\">\n",
       "  <thead>\n",
       "    <tr style=\"text-align: right;\">\n",
       "      <th></th>\n",
       "      <th>Model</th>\n",
       "      <th>Accuracy</th>\n",
       "      <th>Precision</th>\n",
       "      <th>Recall</th>\n",
       "      <th>F1 Score</th>\n",
       "      <th>ROC_AUC</th>\n",
       "    </tr>\n",
       "  </thead>\n",
       "  <tbody>\n",
       "    <tr>\n",
       "      <th>0</th>\n",
       "      <td>Logistic Regression</td>\n",
       "      <td>0.804778</td>\n",
       "      <td>0.685496</td>\n",
       "      <td>0.2245</td>\n",
       "      <td>0.338230</td>\n",
       "      <td>0.597536</td>\n",
       "    </tr>\n",
       "    <tr>\n",
       "      <th>1</th>\n",
       "      <td>Support Vector Machine</td>\n",
       "      <td>0.777778</td>\n",
       "      <td>0.000000</td>\n",
       "      <td>0.0000</td>\n",
       "      <td>0.000000</td>\n",
       "      <td>0.500000</td>\n",
       "    </tr>\n",
       "    <tr>\n",
       "      <th>2</th>\n",
       "      <td>Stochastic Gradient Descent</td>\n",
       "      <td>0.663111</td>\n",
       "      <td>0.353409</td>\n",
       "      <td>0.6220</td>\n",
       "      <td>0.450725</td>\n",
       "      <td>0.648429</td>\n",
       "    </tr>\n",
       "    <tr>\n",
       "      <th>3</th>\n",
       "      <td>K-Nearest Neighbour</td>\n",
       "      <td>0.777778</td>\n",
       "      <td>0.000000</td>\n",
       "      <td>0.0000</td>\n",
       "      <td>0.000000</td>\n",
       "      <td>0.500000</td>\n",
       "    </tr>\n",
       "    <tr>\n",
       "      <th>4</th>\n",
       "      <td>Gaussian Naive Bayes</td>\n",
       "      <td>0.765889</td>\n",
       "      <td>0.477568</td>\n",
       "      <td>0.5695</td>\n",
       "      <td>0.519498</td>\n",
       "      <td>0.695750</td>\n",
       "    </tr>\n",
       "    <tr>\n",
       "      <th>5</th>\n",
       "      <td>Decision Tree Classifier</td>\n",
       "      <td>0.818111</td>\n",
       "      <td>0.667590</td>\n",
       "      <td>0.3615</td>\n",
       "      <td>0.469024</td>\n",
       "      <td>0.655036</td>\n",
       "    </tr>\n",
       "    <tr>\n",
       "      <th>6</th>\n",
       "      <td>Random Forest Classifier</td>\n",
       "      <td>0.816000</td>\n",
       "      <td>0.655797</td>\n",
       "      <td>0.3620</td>\n",
       "      <td>0.466495</td>\n",
       "      <td>0.653857</td>\n",
       "    </tr>\n",
       "  </tbody>\n",
       "</table>\n",
       "</div>"
      ],
      "text/plain": [
       "                         Model  Accuracy  Precision  Recall  F1 Score  \\\n",
       "0          Logistic Regression  0.804778   0.685496  0.2245  0.338230   \n",
       "1       Support Vector Machine  0.777778   0.000000  0.0000  0.000000   \n",
       "2  Stochastic Gradient Descent  0.663111   0.353409  0.6220  0.450725   \n",
       "3          K-Nearest Neighbour  0.777778   0.000000  0.0000  0.000000   \n",
       "4         Gaussian Naive Bayes  0.765889   0.477568  0.5695  0.519498   \n",
       "5     Decision Tree Classifier  0.818111   0.667590  0.3615  0.469024   \n",
       "6     Random Forest Classifier  0.816000   0.655797  0.3620  0.466495   \n",
       "\n",
       "    ROC_AUC  \n",
       "0  0.597536  \n",
       "1  0.500000  \n",
       "2  0.648429  \n",
       "3  0.500000  \n",
       "4  0.695750  \n",
       "5  0.655036  \n",
       "6  0.653857  "
      ]
     },
     "execution_count": 44,
     "metadata": {},
     "output_type": "execute_result"
    }
   ],
   "source": [
    "results"
   ]
  },
  {
   "cell_type": "markdown",
   "metadata": {},
   "source": [
    "### Step6 : Model Optimization using K-Fold Cross validation\n",
    "### Stratified K-Fold Cross-validation\n",
    "The splitting of data into folds may be governed by criteria such as ensuring that each fold has the same proportion of observations with a given categorical value, such as the class outcome value. This is called stratified cross-validation.\n",
    "\n",
    "Specifically, we can split a dataset randomly, although in such a way that maintains the same class distribution in each subset. This is called stratification or stratified sampling and the target variable (y), the class, is used to control the sampling process.\n",
    "\n",
    "##### Stratified K-Fold works well on Imbalenced Datsets"
   ]
  },
  {
   "cell_type": "code",
   "execution_count": 45,
   "metadata": {},
   "outputs": [],
   "source": [
    "skf = StratifiedKFold(n_splits=10, random_state=None)\n",
    "for train_index, test_index in skf.split(X,y):\n",
    "    X_train_skf, X_test_skf = X[train_index], X[test_index]\n",
    "    y_train_skf, y_test_skf = y[train_index], y[test_index]"
   ]
  },
  {
   "cell_type": "markdown",
   "metadata": {},
   "source": [
    "#### 1)Stratified K-Fold on Logistic Regression Model"
   ]
  },
  {
   "cell_type": "code",
   "execution_count": 46,
   "metadata": {},
   "outputs": [],
   "source": [
    "logmodel = LogisticRegression(random_state=42)\n",
    "logmodel.fit(X_train_skf,y_train_skf)\n",
    "y_pred_lr_skf = logmodel.predict(X_test_skf)\n",
    "\n",
    "roc=roc_auc_score(y_test_skf, y_pred_lr_skf)\n",
    "acc = accuracy_score(y_test_skf, y_pred_lr_skf)\n",
    "prec = precision_score(y_test_skf, y_pred_lr_skf)\n",
    "rec = recall_score(y_test_skf, y_pred_lr_skf)\n",
    "f1 = f1_score(y_test_skf, y_pred_lr_skf)\n",
    "skf_results = pd.DataFrame([['Logistic Regression Tuned', acc,prec,rec, f1,roc]],\n",
    "               columns = ['Model', 'Accuracy', 'Precision', 'Recall', 'F1 Score','ROC_AUC'])"
   ]
  },
  {
   "cell_type": "markdown",
   "metadata": {},
   "source": [
    "#### 2)Stratified K-Fold on Support Vector Machine"
   ]
  },
  {
   "cell_type": "code",
   "execution_count": 47,
   "metadata": {},
   "outputs": [],
   "source": [
    "scv = SVC(kernel = 'rbf', random_state = 42)\n",
    "scv.fit(X_train_skf, y_train_skf)\n",
    "y_pred_svm_skf = scv.predict(X_test_skf)\n",
    "\n",
    "roc=roc_auc_score(y_test_skf, y_pred_svm_skf)\n",
    "acc = accuracy_score(y_test_skf, y_pred_svm_skf)\n",
    "prec = precision_score(y_test_skf, y_pred_svm_skf)\n",
    "rec = recall_score(y_test_skf, y_pred_svm_skf)\n",
    "f1 = f1_score(y_test_skf, y_pred_svm_skf)\n",
    "skf_model = pd.DataFrame([['Support Vector Machine Tuned', acc,prec,rec, f1,roc]],\n",
    "               columns = ['Model', 'Accuracy', 'Precision', 'Recall', 'F1 Score','ROC_AUC'])\n",
    "skf_results = skf_results.append(skf_model, ignore_index = True)"
   ]
  },
  {
   "cell_type": "markdown",
   "metadata": {},
   "source": [
    "#### 3)Stratified K-Fold on Stochastic Gradient Descent"
   ]
  },
  {
   "cell_type": "code",
   "execution_count": 48,
   "metadata": {},
   "outputs": [],
   "source": [
    "sgd = SGDClassifier(loss='log', penalty='l1', learning_rate='optimal',random_state=1)\n",
    "sgd.fit(X_train_skf, y_train_skf)\n",
    "y_pred_sgd_skf = sgd.predict(X_test_skf)\n",
    "\n",
    "roc=roc_auc_score(y_test_skf, y_pred_sgd_skf)\n",
    "acc = accuracy_score(y_test_skf, y_pred_sgd_skf)\n",
    "prec = precision_score(y_test_skf, y_pred_sgd_skf)\n",
    "rec = recall_score(y_test_skf, y_pred_sgd_skf)\n",
    "f1 = f1_score(y_test_skf, y_pred_sgd_skf)\n",
    "skf_model = pd.DataFrame([['Stochastic Gradient Descent Tuned', acc,prec,rec, f1,roc]],\n",
    "               columns = ['Model', 'Accuracy', 'Precision', 'Recall', 'F1 Score','ROC_AUC'])\n",
    "skf_results = skf_results.append(skf_model, ignore_index = True)"
   ]
  },
  {
   "cell_type": "markdown",
   "metadata": {},
   "source": [
    "#### 4)Stratified K-Fold on K-Nearest Neighbour"
   ]
  },
  {
   "cell_type": "code",
   "execution_count": 49,
   "metadata": {},
   "outputs": [],
   "source": [
    "knn = KNeighborsClassifier(n_neighbors=49)\n",
    "knn.fit(X_train_skf,y_train_skf)\n",
    "y_pred_knn_skf = knn.predict(X_test_skf)\n",
    "\n",
    "roc=roc_auc_score(y_test_skf, y_pred_knn_skf)\n",
    "acc = accuracy_score(y_test_skf, y_pred_knn_skf)\n",
    "prec = precision_score(y_test_skf, y_pred_knn_skf)\n",
    "rec = recall_score(y_test_skf, y_pred_knn_skf)\n",
    "f1 = f1_score(y_test_skf, y_pred_knn_skf)\n",
    "skf_model = pd.DataFrame([['K-Nearest Neighbour Tuned', acc,prec,rec, f1,roc]],\n",
    "               columns = ['Model', 'Accuracy', 'Precision', 'Recall', 'F1 Score','ROC_AUC'])\n",
    "skf_results = skf_results.append(skf_model, ignore_index = True)"
   ]
  },
  {
   "cell_type": "markdown",
   "metadata": {},
   "source": [
    "#### 5)Stratified K-Fold on Gaussian Naive Bayes"
   ]
  },
  {
   "cell_type": "code",
   "execution_count": 50,
   "metadata": {},
   "outputs": [],
   "source": [
    "naive_bayes = GaussianNB()\n",
    "naive_bayes.fit(X_train_skf,y_train_skf)\n",
    "y_pred_nb_skf =naive_bayes.predict(X_test_skf)\n",
    "\n",
    "roc=roc_auc_score(y_test_skf, y_pred_nb_skf)\n",
    "acc = accuracy_score(y_test_skf, y_pred_nb_skf)\n",
    "prec = precision_score(y_test_skf, y_pred_nb_skf)\n",
    "rec = recall_score(y_test_skf, y_pred_nb_skf)\n",
    "f1 = f1_score(y_test_skf, y_pred_nb_skf)\n",
    "skf_model = pd.DataFrame([['Gaussian Naive Bayes Tuned', acc,prec,rec, f1,roc]],\n",
    "               columns = ['Model', 'Accuracy', 'Precision', 'Recall', 'F1 Score','ROC_AUC'])\n",
    "skf_results = skf_results.append(skf_model, ignore_index = True)"
   ]
  },
  {
   "cell_type": "markdown",
   "metadata": {},
   "source": [
    "#### 6)Stratified K-Fold on Decsion Tree Classifier"
   ]
  },
  {
   "cell_type": "code",
   "execution_count": 51,
   "metadata": {},
   "outputs": [],
   "source": [
    "dct = DecisionTreeClassifier(max_depth=3,criterion = 'gini')\n",
    "dct.fit(X_train_skf,y_train_skf)\n",
    "y_pred_dct_skf = dct.predict(X_test_skf)\n",
    "\n",
    "roc=roc_auc_score(y_test_skf, y_pred_dct_skf)\n",
    "acc = accuracy_score(y_test_skf, y_pred_dct_skf)\n",
    "prec = precision_score(y_test_skf, y_pred_dct_skf)\n",
    "rec = recall_score(y_test_skf, y_pred_dct_skf)\n",
    "f1 = f1_score(y_test_skf, y_pred_dct_skf)\n",
    "skf_model = pd.DataFrame([['Decision Tree Classifier Tuned', acc,prec,rec, f1,roc]],\n",
    "               columns = ['Model', 'Accuracy', 'Precision', 'Recall', 'F1 Score','ROC_AUC'])\n",
    "skf_results = skf_results.append(skf_model, ignore_index = True)"
   ]
  },
  {
   "cell_type": "markdown",
   "metadata": {},
   "source": [
    "#### 7)Stratified K-Fold on Random Forest Classifier"
   ]
  },
  {
   "cell_type": "code",
   "execution_count": 52,
   "metadata": {},
   "outputs": [],
   "source": [
    "rfc = RandomForestClassifier(n_estimators = 100,criterion = 'entropy',random_state = 0)\n",
    "rfc.fit(X_train_skf,y_train_skf)\n",
    "y_pred_rfc_skf = rfc.predict(X_test_skf)\n",
    "\n",
    "roc=roc_auc_score(y_test_skf, y_pred_rfc_skf)\n",
    "acc = accuracy_score(y_test_skf, y_pred_rfc_skf)\n",
    "prec = precision_score(y_test_skf, y_pred_rfc_skf)\n",
    "rec = recall_score(y_test_skf, y_pred_rfc_skf)\n",
    "f1 = f1_score(y_test_skf, y_pred_rfc_skf)\n",
    "skf_model = pd.DataFrame([['Random Forest Classifier Tuned', acc,prec,rec, f1,roc]],\n",
    "               columns = ['Model', 'Accuracy', 'Precision', 'Recall', 'F1 Score','ROC_AUC'])\n",
    "skf_results = skf_results.append(skf_model, ignore_index = True)"
   ]
  },
  {
   "cell_type": "code",
   "execution_count": 53,
   "metadata": {},
   "outputs": [
    {
     "data": {
      "text/html": [
       "<div>\n",
       "<style scoped>\n",
       "    .dataframe tbody tr th:only-of-type {\n",
       "        vertical-align: middle;\n",
       "    }\n",
       "\n",
       "    .dataframe tbody tr th {\n",
       "        vertical-align: top;\n",
       "    }\n",
       "\n",
       "    .dataframe thead th {\n",
       "        text-align: right;\n",
       "    }\n",
       "</style>\n",
       "<table border=\"1\" class=\"dataframe\">\n",
       "  <thead>\n",
       "    <tr style=\"text-align: right;\">\n",
       "      <th></th>\n",
       "      <th>Model</th>\n",
       "      <th>Accuracy</th>\n",
       "      <th>Precision</th>\n",
       "      <th>Recall</th>\n",
       "      <th>F1 Score</th>\n",
       "      <th>ROC_AUC</th>\n",
       "    </tr>\n",
       "  </thead>\n",
       "  <tbody>\n",
       "    <tr>\n",
       "      <th>0</th>\n",
       "      <td>Logistic Regression Tuned</td>\n",
       "      <td>0.804000</td>\n",
       "      <td>0.700535</td>\n",
       "      <td>0.197587</td>\n",
       "      <td>0.308235</td>\n",
       "      <td>0.586812</td>\n",
       "    </tr>\n",
       "    <tr>\n",
       "      <th>1</th>\n",
       "      <td>Support Vector Machine Tuned</td>\n",
       "      <td>0.779000</td>\n",
       "      <td>0.000000</td>\n",
       "      <td>0.000000</td>\n",
       "      <td>0.000000</td>\n",
       "      <td>0.500000</td>\n",
       "    </tr>\n",
       "    <tr>\n",
       "      <th>2</th>\n",
       "      <td>Stochastic Gradient Descent Tuned</td>\n",
       "      <td>0.782667</td>\n",
       "      <td>0.823529</td>\n",
       "      <td>0.021116</td>\n",
       "      <td>0.041176</td>\n",
       "      <td>0.509916</td>\n",
       "    </tr>\n",
       "    <tr>\n",
       "      <th>3</th>\n",
       "      <td>K-Nearest Neighbour Tuned</td>\n",
       "      <td>0.779000</td>\n",
       "      <td>0.000000</td>\n",
       "      <td>0.000000</td>\n",
       "      <td>0.000000</td>\n",
       "      <td>0.500000</td>\n",
       "    </tr>\n",
       "    <tr>\n",
       "      <th>4</th>\n",
       "      <td>Gaussian Naive Bayes Tuned</td>\n",
       "      <td>0.777667</td>\n",
       "      <td>0.497436</td>\n",
       "      <td>0.585219</td>\n",
       "      <td>0.537769</td>\n",
       "      <td>0.708741</td>\n",
       "    </tr>\n",
       "    <tr>\n",
       "      <th>5</th>\n",
       "      <td>Decision Tree Classifier Tuned</td>\n",
       "      <td>0.824667</td>\n",
       "      <td>0.704478</td>\n",
       "      <td>0.355958</td>\n",
       "      <td>0.472946</td>\n",
       "      <td>0.656798</td>\n",
       "    </tr>\n",
       "    <tr>\n",
       "      <th>6</th>\n",
       "      <td>Random Forest Classifier Tuned</td>\n",
       "      <td>0.820667</td>\n",
       "      <td>0.661499</td>\n",
       "      <td>0.386124</td>\n",
       "      <td>0.487619</td>\n",
       "      <td>0.665034</td>\n",
       "    </tr>\n",
       "  </tbody>\n",
       "</table>\n",
       "</div>"
      ],
      "text/plain": [
       "                               Model  Accuracy  Precision    Recall  F1 Score  \\\n",
       "0          Logistic Regression Tuned  0.804000   0.700535  0.197587  0.308235   \n",
       "1       Support Vector Machine Tuned  0.779000   0.000000  0.000000  0.000000   \n",
       "2  Stochastic Gradient Descent Tuned  0.782667   0.823529  0.021116  0.041176   \n",
       "3          K-Nearest Neighbour Tuned  0.779000   0.000000  0.000000  0.000000   \n",
       "4         Gaussian Naive Bayes Tuned  0.777667   0.497436  0.585219  0.537769   \n",
       "5     Decision Tree Classifier Tuned  0.824667   0.704478  0.355958  0.472946   \n",
       "6     Random Forest Classifier Tuned  0.820667   0.661499  0.386124  0.487619   \n",
       "\n",
       "    ROC_AUC  \n",
       "0  0.586812  \n",
       "1  0.500000  \n",
       "2  0.509916  \n",
       "3  0.500000  \n",
       "4  0.708741  \n",
       "5  0.656798  \n",
       "6  0.665034  "
      ]
     },
     "execution_count": 53,
     "metadata": {},
     "output_type": "execute_result"
    }
   ],
   "source": [
    "skf_results"
   ]
  },
  {
   "cell_type": "code",
   "execution_count": 54,
   "metadata": {},
   "outputs": [
    {
     "data": {
      "image/png": "[encoded data removed]",
      "text/plain": [
       "<Figure size 720x576 with 1 Axes>"
      ]
     },
     "metadata": {
      "needs_background": "light"
     },
     "output_type": "display_data"
    }
   ],
   "source": [
    "# false positive rate,fpr= FP/(TN+FP) OR fpr=1-specificty, tpr=sensitivity \n",
    "y_pred_log_p =logmodel.predict_proba(X_test)[:,1]\n",
    "y_pred_nb_p =naive_bayes.predict_proba(X_test)[:,1]\n",
    "y_pred_sgd_p =sgd.predict_proba(X_test)[:,1]\n",
    "y_pred_dct_p =dct.predict_proba(X_test)[:,1]\n",
    "y_pred_rfc_p =rfc.predict_proba(X_test)[:,1]\n",
    "\n",
    "model = [logmodel,naive_bayes,sgd,dct,rfc]\n",
    "\n",
    "models=[y_pred_log_p,y_pred_nb_p,y_pred_sgd_p,y_pred_dct_p,y_pred_rfc_p]\n",
    "label=['Logistic','Naive Bayes','SGD','Decision Tree','Random Forest']\n",
    "\n",
    "# plotting ROC curves\n",
    "plt.figure(figsize=(10, 8))\n",
    "m=np.arange(5)\n",
    "for m in m:\n",
    "    fpr, tpr,thresholds= metrics.roc_curve(y_test,models[m])\n",
    "    auc = metrics.roc_auc_score(y_test,model[m].predict(X_test))\n",
    "    plt.plot(fpr, tpr, label='%s ROC (area(auc) = %0.2f)' % (label[m], auc))\n",
    "plt.plot([0, 1], [0, 1],'r--')\n",
    "plt.xlim([0.0, 1.0])\n",
    "plt.ylim([0.0, 1.05])\n",
    "plt.xlabel('1-Specificity(False Positive Rate)')\n",
    "plt.ylabel('Sensitivity(True Positive Rate)')\n",
    "plt.title('Receiver Operating Characteristic Curve')\n",
    "plt.legend(loc=\"lower right\")\n",
    "plt.show()"
   ]
  },
  {
   "cell_type": "code",
   "execution_count": 55,
   "metadata": {},
   "outputs": [
    {
     "data": {
      "text/html": [
       "<div>\n",
       "<style scoped>\n",
       "    .dataframe tbody tr th:only-of-type {\n",
       "        vertical-align: middle;\n",
       "    }\n",
       "\n",
       "    .dataframe tbody tr th {\n",
       "        vertical-align: top;\n",
       "    }\n",
       "\n",
       "    .dataframe thead th {\n",
       "        text-align: right;\n",
       "    }\n",
       "</style>\n",
       "<table border=\"1\" class=\"dataframe\">\n",
       "  <thead>\n",
       "    <tr style=\"text-align: right;\">\n",
       "      <th></th>\n",
       "      <th>Model</th>\n",
       "      <th>mean accuracy</th>\n",
       "      <th>standard deviation accuracy</th>\n",
       "    </tr>\n",
       "  </thead>\n",
       "  <tbody>\n",
       "    <tr>\n",
       "      <th>0</th>\n",
       "      <td>LR</td>\n",
       "      <td>0.803567</td>\n",
       "      <td>0.011901</td>\n",
       "    </tr>\n",
       "    <tr>\n",
       "      <th>1</th>\n",
       "      <td>SVM</td>\n",
       "      <td>0.778800</td>\n",
       "      <td>0.017234</td>\n",
       "    </tr>\n",
       "    <tr>\n",
       "      <th>2</th>\n",
       "      <td>SGD</td>\n",
       "      <td>0.779733</td>\n",
       "      <td>0.016753</td>\n",
       "    </tr>\n",
       "    <tr>\n",
       "      <th>3</th>\n",
       "      <td>KNN</td>\n",
       "      <td>0.721467</td>\n",
       "      <td>0.111097</td>\n",
       "    </tr>\n",
       "    <tr>\n",
       "      <th>4</th>\n",
       "      <td>NB</td>\n",
       "      <td>0.759567</td>\n",
       "      <td>0.020673</td>\n",
       "    </tr>\n",
       "    <tr>\n",
       "      <th>5</th>\n",
       "      <td>CART</td>\n",
       "      <td>0.718167</td>\n",
       "      <td>0.028652</td>\n",
       "    </tr>\n",
       "    <tr>\n",
       "      <th>6</th>\n",
       "      <td>RFC</td>\n",
       "      <td>0.816733</td>\n",
       "      <td>0.015734</td>\n",
       "    </tr>\n",
       "  </tbody>\n",
       "</table>\n",
       "</div>"
      ],
      "text/plain": [
       "  Model  mean accuracy  standard deviation accuracy\n",
       "0    LR       0.803567                     0.011901\n",
       "1   SVM       0.778800                     0.017234\n",
       "2   SGD       0.779733                     0.016753\n",
       "3   KNN       0.721467                     0.111097\n",
       "4    NB       0.759567                     0.020673\n",
       "5  CART       0.718167                     0.028652\n",
       "6   RFC       0.816733                     0.015734"
      ]
     },
     "execution_count": 55,
     "metadata": {},
     "output_type": "execute_result"
    }
   ],
   "source": [
    "seed = 7\n",
    "# prepare models\n",
    "models = []\n",
    "models.append(('LR', LogisticRegression()))\n",
    "models.append(('SVM', SVC()))\n",
    "models.append(('SGD',SGDClassifier()))\n",
    "models.append(('KNN', KNeighborsClassifier()))\n",
    "models.append(('NB', GaussianNB()))\n",
    "models.append(('CART', DecisionTreeClassifier()))\n",
    "models.append(('RFC',RandomForestClassifier()))\n",
    "# evaluate each model in turn\n",
    "results = []\n",
    "names = []\n",
    "scoring = 'accuracy'\n",
    "column_names = [\"Model\",\"mean accuracy\", \"standard deviation accuracy\"]\n",
    "df = pd.DataFrame(columns = column_names)\n",
    "for name, model in models:\n",
    "    kfold = model_selection.KFold(n_splits=10, random_state=seed)\n",
    "    cv_results = model_selection.cross_val_score(model, X, y, cv=kfold, scoring=scoring)\n",
    "    results.append(cv_results)\n",
    "    names.append(name)\n",
    "    df_model = pd.DataFrame([[name,cv_results.mean(),cv_results.std()]],\n",
    "               columns = [\"Model\",\"mean accuracy\", \"standard deviation accuracy\"])\n",
    "    df = df.append(df_model, ignore_index = True)\n",
    "df"
   ]
  },
  {
   "cell_type": "code",
   "execution_count": 59,
   "metadata": {},
   "outputs": [
    {
     "data": {
      "image/png": "[encoded data removed]",
      "text/plain": [
       "<Figure size 720x576 with 1 Axes>"
      ]
     },
     "metadata": {
      "needs_background": "light"
     },
     "output_type": "display_data"
    }
   ],
   "source": [
    "# boxplot algorithm comparison\n",
    "fig = plt.figure(figsize=(10, 8))\n",
    "fig.suptitle('Algorithm Comparison',fontsize=18)\n",
    "ax = fig.add_subplot(111)\n",
    "plt.boxplot(results)\n",
    "plt.ylabel('Accuracy', fontsize=15)\n",
    "plt.xlabel('Model', fontsize=15)\n",
    "ax.set_xticklabels(names)\n",
    "plt.show()"
   ]
  },
  {
   "cell_type": "markdown",
   "metadata": {},
   "source": [
    "### Conclusion\n",
    "1)Using a **Logistic Regression**  classifier, we can predict with **80.4% accuracy**, whether a customer is likely to default next month or not.\n",
    "\n",
    "2)Using a **Support Vector Machine**  classifier, we can predict with **77.9% accuracy**, whether a customer is likely to default next month or not.\n",
    "\n",
    "3)Using a **Stochastic Gradient Descent**  classifier, we can predict with **78.26% accuracy**, whether a customer is likely to default next month or not.\n",
    "\n",
    "4)Using a **K-Nearest Neighbour**  classifier, we can predict with **77.9% accuracy**, whether a customer is likely to default next month or not.\n",
    "\n",
    "5)Using a **Gaussain Naive Bayes**  classifier, we can predict with **77.76% accuracy**, whether a customer is likely to default next month or not.\n",
    "\n",
    "6)Using a **Decision Tree classifier**, we can predict with **82.43% accuracy**, whether a customer is likely to default next month or not.\n",
    "\n",
    "7)Using a **Random Forest classifier**, we can predict with **82.06% accuracy**, whether a customer is likely to default next month or not.\n",
    "\n",
    "\n",
    "The strongest predictors of default are the **PAY_X (ie the repayment status in previous months), the LIMIT_BAL & the PAY_AMTX (amount paid in previous months)**.\n",
    "\n",
    "**We found that for this data Decision Tree,Logistic Regression and Random Forest Classifier are better.**"
   ]
  }
 ],
 "metadata": {
  "kernelspec": {
   "display_name": "Python 3",
   "language": "python",
   "name": "python3"
  },
  "language_info": {
   "codemirror_mode": {
    "name": "ipython",
    "version": 3
   },
   "file_extension": ".py",
   "mimetype": "text/x-python",
   "name": "python",
   "nbconvert_exporter": "python",
   "pygments_lexer": "ipython3",
   "version": "3.8.5"
  }
 },
 "nbformat": 4,
 "nbformat_minor": 4
}
